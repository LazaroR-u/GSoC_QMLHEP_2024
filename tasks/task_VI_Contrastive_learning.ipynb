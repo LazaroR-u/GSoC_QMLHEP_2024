{
  "cells": [
    {
      "cell_type": "markdown",
      "metadata": {
        "id": "view-in-github",
        "colab_type": "text"
      },
      "source": [
        "<a href=\"https://colab.research.google.com/github/LazaroR-u/GSoC_QMLHEP_2024/blob/main/tasks/task_VI_Contrastive_learning.ipynb\" target=\"_parent\"><img src=\"https://colab.research.google.com/assets/colab-badge.svg\" alt=\"Open In Colab\"/></a>"
      ]
    },
    {
      "cell_type": "markdown",
      "id": "99a6fd09-39c6-4b73-bc6a-2c3c39330494",
      "metadata": {
        "id": "99a6fd09-39c6-4b73-bc6a-2c3c39330494"
      },
      "source": [
        "# VI. Contrastive learning\n",
        "\n",
        "In this task you should implement a simple representation learning scheme based on a contrastive loss:\n",
        "\n",
        "- Load the MNIST dataset\n",
        "- Write a function which takes an image and prepares a quantum state. This function should have trainable parameters which we want to learn in order to have good quantum representations\n",
        "- Create a circuit with which takes two images and embeds both as quantum states with the function you wrote before. Afterwards the circuit should perform a SWAP test between the two states. In the end the measurement should give the fidelity of the quantum states.\n",
        "- Train the circuit parameters with a contrastive loss: For two MNIST images in the same class the fidelity should be maximized, while for images of different classes the fidelity should be minimized."
      ]
    },
    {
      "cell_type": "code",
      "source": [
        "%%capture\n",
        "pip install pennylane"
      ],
      "metadata": {
        "id": "BHenwwlxE-vF"
      },
      "id": "BHenwwlxE-vF",
      "execution_count": 1,
      "outputs": []
    },
    {
      "cell_type": "code",
      "execution_count": 2,
      "id": "23567f97-58cc-4085-bf1c-ea50ac7f53a7",
      "metadata": {
        "id": "23567f97-58cc-4085-bf1c-ea50ac7f53a7"
      },
      "outputs": [],
      "source": [
        "import matplotlib.pyplot as plt\n",
        "import pennylane as qml\n",
        "from pennylane import numpy as np\n",
        "import time\n",
        "from pennylane.optimize import AdamOptimizer\n",
        "import tensorflow as tf"
      ]
    },
    {
      "cell_type": "code",
      "execution_count": 3,
      "id": "7e19958e-228b-4d4e-bd2d-e0d1cd9248d8",
      "metadata": {
        "id": "7e19958e-228b-4d4e-bd2d-e0d1cd9248d8"
      },
      "outputs": [],
      "source": [
        "dev = qml.device('lightning.qubit', wires=9)"
      ]
    },
    {
      "cell_type": "markdown",
      "source": [
        "## Load MNIST data"
      ],
      "metadata": {
        "id": "apbBrDAtiGk_"
      },
      "id": "apbBrDAtiGk_"
    },
    {
      "cell_type": "code",
      "source": [
        "mnist = tf.keras.datasets.mnist\n",
        "(x_train, y_train), (x_test, y_test) = mnist.load_data()\n",
        "# Scale the inputs in range of (-1, +1) for better training\n",
        "x_train_flatten, x_test_flatten = x_train / 255.0 , x_test / 255.0"
      ],
      "metadata": {
        "id": "Z7WWGC3nWa2e"
      },
      "id": "Z7WWGC3nWa2e",
      "execution_count": 8,
      "outputs": []
    },
    {
      "cell_type": "markdown",
      "source": [
        "Separate the dataset into classes\n"
      ],
      "metadata": {
        "id": "_acox6rD3wc1"
      },
      "id": "_acox6rD3wc1"
    },
    {
      "cell_type": "code",
      "source": [
        "x_train_0 = x_train_flatten[y_train == 0]\n",
        "x_train_1 = x_train_flatten[y_train == 1]\n",
        "x_train_2 = x_train_flatten[y_train == 2]\n",
        "x_train_3 = x_train_flatten[y_train == 3]\n",
        "x_train_4 = x_train_flatten[y_train == 4]\n",
        "x_train_5 = x_train_flatten[y_train == 5]\n",
        "x_train_6 = x_train_flatten[y_train == 6]\n",
        "x_train_7 = x_train_flatten[y_train == 7]\n",
        "x_train_8 = x_train_flatten[y_train == 8]\n",
        "x_train_9 = x_train_flatten[y_train == 9]\n",
        "\n",
        "x_train_list = [x_train_0, x_train_1, x_train_2, x_train_3, x_train_4, x_train_5, x_train_6, x_train_7, x_train_8, x_train_9]\n",
        "\n",
        "print(x_train_0.shape)\n",
        "print(x_train_1.shape)\n",
        "print(x_train_2.shape)\n",
        "print(x_train_3.shape)\n",
        "print(x_train_4.shape)\n",
        "print(x_train_5.shape)\n",
        "print(x_train_6.shape)\n",
        "print(x_train_7.shape)\n",
        "print(x_train_8.shape)\n",
        "print(x_train_9.shape)\n",
        "\n",
        "x_test_0 = x_test_flatten[y_test == 0]\n",
        "x_test_1 = x_test_flatten[y_test == 1]\n",
        "x_test_2 = x_test_flatten[y_test == 2]\n",
        "x_test_3 = x_test_flatten[y_test == 3]\n",
        "x_test_4 = x_test_flatten[y_test == 4]\n",
        "x_test_5 = x_test_flatten[y_test == 5]\n",
        "x_test_6 = x_test_flatten[y_test == 6]\n",
        "x_test_7 = x_test_flatten[y_test == 7]\n",
        "x_test_8 = x_test_flatten[y_test == 8]\n",
        "x_test_9 = x_test_flatten[y_test == 9]\n",
        "\n",
        "x_test_list = [x_test_0, x_test_1, x_test_2, x_test_3, x_test_4, x_test_5, x_test_6, x_test_7, x_test_8, x_test_9]"
      ],
      "metadata": {
        "colab": {
          "base_uri": "https://localhost:8080/"
        },
        "id": "mulB9HXWXQz_",
        "outputId": "2d59ee45-1dbd-43a2-e010-0bda45b1ed9b"
      },
      "id": "mulB9HXWXQz_",
      "execution_count": 10,
      "outputs": [
        {
          "output_type": "stream",
          "name": "stdout",
          "text": [
            "(5923, 28, 28)\n",
            "(6742, 28, 28)\n",
            "(5958, 28, 28)\n",
            "(6131, 28, 28)\n",
            "(5842, 28, 28)\n",
            "(5421, 28, 28)\n",
            "(5918, 28, 28)\n",
            "(6265, 28, 28)\n",
            "(5851, 28, 28)\n",
            "(5949, 28, 28)\n"
          ]
        }
      ]
    },
    {
      "cell_type": "markdown",
      "source": [
        "We choose 2 classes: 0 and 1 to classify\n"
      ],
      "metadata": {
        "id": "MQo_em_f31lV"
      },
      "id": "MQo_em_f31lV"
    },
    {
      "cell_type": "code",
      "source": [
        "class_set = [0, 1]\n",
        "\n",
        "training_sample_per_class = 200  # number of training samples per class\n",
        "X_train = np.concatenate((x_train_list[class_set[0]][:training_sample_per_class, :], x_train_list[class_set[1]][:training_sample_per_class, :]), axis=0)\n",
        "Y_train = np.zeros((X_train.shape[0],), dtype=int)\n",
        "Y_train[training_sample_per_class:] += 1\n",
        "\n",
        "print(\"Train Set Shape:\", X_train.shape, Y_train.shape)\n",
        "\n",
        "testing_sample_per_class = 100  # number of testing samples per class\n",
        "X_test = np.concatenate((x_test_list[class_set[0]][:testing_sample_per_class, :], x_test_list[class_set[1]][:testing_sample_per_class, :]), axis=0)\n",
        "Y_test = np.zeros((X_test.shape[0],), dtype=int)\n",
        "Y_test[testing_sample_per_class:] += 1\n",
        "\n",
        "print(\"Test Set Shape:\", X_test.shape, Y_test.shape)"
      ],
      "metadata": {
        "colab": {
          "base_uri": "https://localhost:8080/"
        },
        "id": "3Hqepp-FYuyA",
        "outputId": "9f68b5a0-d74b-4687-defd-d8aaf7b14350"
      },
      "id": "3Hqepp-FYuyA",
      "execution_count": 11,
      "outputs": [
        {
          "output_type": "stream",
          "name": "stdout",
          "text": [
            "Train Set Shape: (400, 28, 28) (400,)\n",
            "Test Set Shape: (200, 28, 28) (200,)\n"
          ]
        }
      ]
    },
    {
      "cell_type": "code",
      "source": [
        "plt.imshow(np.concatenate((X_train[0], X_train[-1]), axis=1))"
      ],
      "metadata": {
        "colab": {
          "base_uri": "https://localhost:8080/",
          "height": 326
        },
        "id": "N2-th2NAYwki",
        "outputId": "315375c9-0e94-4d50-fa1c-ea5fd91ba4e7"
      },
      "id": "N2-th2NAYwki",
      "execution_count": 20,
      "outputs": [
        {
          "output_type": "execute_result",
          "data": {
            "text/plain": [
              "<matplotlib.image.AxesImage at 0x7e0f239a6380>"
            ]
          },
          "metadata": {},
          "execution_count": 20
        },
        {
          "output_type": "display_data",
          "data": {
            "text/plain": [
              "<Figure size 640x480 with 1 Axes>"
            ],
            "image/png": "[encoded data removed]"
          },
          "metadata": {}
        }
      ]
    },
    {
      "cell_type": "markdown",
      "source": [
        "## PQC Approach. 13 qubits circuit"
      ],
      "metadata": {
        "id": "JA53MbD7ZTF_"
      },
      "id": "JA53MbD7ZTF_"
    },
    {
      "cell_type": "code",
      "source": [
        "from sklearn.decomposition import PCA\n",
        "from sklearn.preprocessing import StandardScaler\n",
        "\n",
        "scaler = StandardScaler()\n",
        "scaler.fit(X_train.reshape(-1, 28*28))\n",
        "X_train_scaled = scaler.transform(X_train.reshape(-1, 28*28))\n",
        "X_test_scaled = scaler.transform(X_test.reshape(-1, 28*28))\n",
        "\n",
        "n_pca = 6\n",
        "pca = PCA(n_components=n_pca)\n",
        "pca.fit(X_train_scaled)\n",
        "\n",
        "X_train_transform = pca.transform(X_train_scaled)\n",
        "X_test_transform = pca.transform(X_test_scaled)\n",
        "\n",
        "print(X_train_transform.shape, Y_train.shape)\n",
        "print(X_test_transform.shape, Y_test.shape)"
      ],
      "metadata": {
        "colab": {
          "base_uri": "https://localhost:8080/"
        },
        "id": "KXDTOlf-ZVEN",
        "outputId": "81de0d63-e138-4790-b1a0-8a8c4dd39a3b"
      },
      "id": "KXDTOlf-ZVEN",
      "execution_count": 21,
      "outputs": [
        {
          "output_type": "stream",
          "name": "stdout",
          "text": [
            "(400, 6) (400,)\n",
            "(200, 6) (200,)\n"
          ]
        }
      ]
    },
    {
      "cell_type": "code",
      "source": [
        "X_train_transform[0]"
      ],
      "metadata": {
        "colab": {
          "base_uri": "https://localhost:8080/"
        },
        "id": "0IjidJRJZ5te",
        "outputId": "c7303d3d-8d8c-4fbd-d773-3bb79faac8cc"
      },
      "id": "0IjidJRJZ5te",
      "execution_count": 26,
      "outputs": [
        {
          "output_type": "execute_result",
          "data": {
            "text/plain": [
              "array([ 7.91882982, -4.61375223,  0.59233633, -1.44470015, -2.82157947,\n",
              "       -1.66127436])"
            ]
          },
          "metadata": {},
          "execution_count": 26
        }
      ]
    },
    {
      "cell_type": "markdown",
      "id": "bea33615-8b4a-4d20-9fa7-e378a09010cd",
      "metadata": {
        "id": "bea33615-8b4a-4d20-9fa7-e378a09010cd"
      },
      "source": [
        "### Model AngleEmbeding and Strongly Entangling layers"
      ]
    },
    {
      "cell_type": "markdown",
      "id": "61a78130-698a-4688-b20f-9dae6fe74c8a",
      "metadata": {
        "id": "61a78130-698a-4688-b20f-9dae6fe74c8a"
      },
      "source": [
        "For this first approach, we are only considering a PCA of the MNIST data, taking just 6 features as the real data, for this we build the PQC model using [Angle Embeding](https://docs.pennylane.ai/en/stable/code/api/pennylane.AngleEmbedding.html) to encode the real data in the circuit and we implement trainable parameters using a [Strongly Entangling Layer](https://docs.pennylane.ai/en/stable/code/api/pennylane.StronglyEntanglingLayers.html)"
      ]
    },
    {
      "cell_type": "code",
      "execution_count": 131,
      "id": "8b3e8e7d-0cba-4bee-ab17-cbe679096e42",
      "metadata": {
        "id": "8b3e8e7d-0cba-4bee-ab17-cbe679096e42"
      },
      "outputs": [],
      "source": [
        "#dev = qml.device(\"default.qubit\", wires = 6)\n",
        "#@qml.qnode(dev)\n",
        "#def data_enconding(feature_vector, qubits):\n",
        "#    qml.AngleEmbedding(features=feature_vector, wires= qubits, rotation='Y')\n",
        "#    return qml.state()\n",
        "\n",
        "def PQC(image, params, qbits):\n",
        "    qml.AngleEmbedding(features=image, wires= qbits, rotation='Y')\n",
        "    qml.StronglyEntanglingLayers(weights=params, wires= qbits)\n"
      ]
    },
    {
      "cell_type": "markdown",
      "source": [
        "\n",
        "\n",
        "Training_circ is the circuit which takes two image and embeds both as quantum states using PQC function. Then, we apply a SWAP test to compare those quantum states and with the measurement to calculate the fidelity between those quantum states."
      ],
      "metadata": {
        "id": "tk9MYxaP0HRk"
      },
      "id": "tk9MYxaP0HRk"
    },
    {
      "cell_type": "code",
      "execution_count": 173,
      "id": "539c88b4-6903-49c1-a28c-096f43757eca",
      "metadata": {
        "id": "539c88b4-6903-49c1-a28c-096f43757eca"
      },
      "outputs": [],
      "source": [
        "dev13 = qml.device(\"default.qubit\", wires = 13)\n",
        "@qml.qnode(dev13)\n",
        "def training_circ(image1, image2, params1, qbits):\n",
        "    PQC(image1, params1, [qbits[0], qbits[1], qbits[2], qbits[3], qbits[4], qbits[5]])\n",
        "    PQC(image2, params1, [qbits[7], qbits[8], qbits[9], qbits[10], qbits[11], qbits[12]])\n",
        "\n",
        "    # swap test\n",
        "    qml.Hadamard(wires=6)\n",
        "\n",
        "    for i in range(6):\n",
        "      qml.CSWAP(wires = [6, i, i+7])\n",
        "\n",
        "    qml.Hadamard(wires=6)\n",
        "\n",
        "    return qml.expval(qml.PauliZ(6))\n"
      ]
    },
    {
      "cell_type": "code",
      "execution_count": 174,
      "id": "c45626ea-0a86-469e-89ed-03b1ac166ff7",
      "metadata": {
        "colab": {
          "base_uri": "https://localhost:8080/",
          "height": 1000
        },
        "id": "c45626ea-0a86-469e-89ed-03b1ac166ff7",
        "outputId": "718073cb-a5cf-40ce-fed1-97138e296a41"
      },
      "outputs": [
        {
          "output_type": "stream",
          "name": "stderr",
          "text": [
            "/usr/local/lib/python3.10/dist-packages/pennylane/drawer/mpldrawer.py:634: UserWarning: Some control indicators are hidden behind an operator. Consider re-ordering your circuit wires to ensure all control indicators are visible.\n",
            "  warnings.warn(\n"
          ]
        },
        {
          "output_type": "display_data",
          "data": {
            "text/plain": [
              "<Figure size 1200x1400 with 1 Axes>"
            ],
            "image/png": "[encoded data removed]"
          },
          "metadata": {}
        }
      ],
      "source": [
        "fig, ax = qml.draw_mpl(training_circ)(X_train_transform[0], X_train_transform[1], np.zeros(shape=(2,6,3)),  list(range(13)))\n",
        "fig.show()"
      ]
    },
    {
      "cell_type": "markdown",
      "id": "bf134c12-475c-48bc-9009-4ef652427c54",
      "metadata": {
        "tags": [],
        "id": "bf134c12-475c-48bc-9009-4ef652427c54"
      },
      "source": [
        "#### Generator and real data comparing using swap test"
      ]
    },
    {
      "cell_type": "markdown",
      "id": "51d0efcd-b5c1-4d8f-9b0d-956b278d9aad",
      "metadata": {
        "id": "51d0efcd-b5c1-4d8f-9b0d-956b278d9aad"
      },
      "source": [
        "The GAN is build from the real data in qubits $1-4$, the generator circuit in qubits $5-8$ and a SWAP test between the two states to measure the similarity.\n",
        "The result of the SWAP test is read out from qubit $0$."
      ]
    },
    {
      "cell_type": "code",
      "execution_count": 137,
      "id": "356aa568-1970-4743-b119-cead5680829b",
      "metadata": {
        "id": "356aa568-1970-4743-b119-cead5680829b"
      },
      "outputs": [],
      "source": [
        "def data_enconding(data, qubits):\n",
        "  qml.AngleEmbedding(data, wires = qubits)\n",
        "  #return qml.state()\n",
        "\n",
        "def generator(params, qubits):\n",
        "  qml.StronglyEntanglingLayers(params, wires = qubits)\n",
        "\n",
        "dev13 = qml.device('default.qubit', wires=13)\n",
        "\n",
        "@qml.qnode(dev13)\n",
        "def training_circ(data, paramsg, qbits):\n",
        "    # top 5 qbits real data\n",
        "    data_enconding(data, [qbits[0],qbits[1],qbits[2],qbits[3], qbits[4], qbits[5]])\n",
        "\n",
        "    # bottom 5 qubits generator ansatz\n",
        "    generator(paramsg, [qbits[7],qbits[8],qbits[9], qbits[10], qbits[11], qbits[12]])\n",
        "    #generator_ry(paramsg, [qbits[6],qbits[7],qbits[8],qbits[9], qbits[10]])\n",
        "\n",
        "    # swap test\n",
        "    qml.Hadamard(wires=6)\n",
        "\n",
        "    for i in range(6):\n",
        "      qml.CSWAP(wires = [6, i, i+7])\n",
        "\n",
        "    qml.Hadamard(wires=6)\n",
        "\n",
        "    return qml.expval(qml.PauliZ(6))"
      ]
    },
    {
      "cell_type": "code",
      "source": [
        "dev15 = qml.device('default.qubit', wires=15)\n",
        "\n",
        "@qml.qnode(dev15)\n",
        "def training_circ_5(data, paramsg, qbits):\n",
        "    # top 5 qbits real data\n",
        "    data_enconding(data, [qbits[0],qbits[1],qbits[2],qbits[3], qbits[4]])\n",
        "\n",
        "    # bottom 5 qubits generator ansatz\n",
        "    generator(paramsg, [qbits[10],qbits[11],qbits[12],qbits[13], qbits[14]])\n",
        "    #generator_ry(paramsg, [qbits[6],qbits[7],qbits[8],qbits[9], qbits[10]])\n",
        "\n",
        "    # swap test\n",
        "    qml.Hadamard(wires=5)\n",
        "    qml.Hadamard(wires=6)\n",
        "    qml.Hadamard(wires=7)\n",
        "    qml.Hadamard(wires=8)\n",
        "    qml.Hadamard(wires=9)\n",
        "\n",
        "    qml.CSWAP(wires=[5,0,10])\n",
        "    qml.CSWAP(wires=[6,1,11])\n",
        "    qml.CSWAP(wires=[7,2,12])\n",
        "    qml.CSWAP(wires=[8,3,13])\n",
        "    qml.CSWAP(wires=[9,4,14])\n",
        "    qml.Hadamard(wires=5)\n",
        "    qml.Hadamard(wires=6)\n",
        "    qml.Hadamard(wires=7)\n",
        "    qml.Hadamard(wires=8)\n",
        "    qml.Hadamard(wires=9)\n",
        "\n",
        "    return [qml.expval(qml.PauliZ(i)) for i in range(5,10)]"
      ],
      "metadata": {
        "id": "K2F3BjU20rmf"
      },
      "id": "K2F3BjU20rmf",
      "execution_count": 138,
      "outputs": []
    },
    {
      "cell_type": "markdown",
      "id": "5edfc7c2-0061-4e9d-9c08-9b17b3527747",
      "metadata": {
        "id": "5edfc7c2-0061-4e9d-9c08-9b17b3527747"
      },
      "source": [
        "Lets draw an example of the training circuit:"
      ]
    },
    {
      "cell_type": "code",
      "source": [
        "fig, ax = qml.draw_mpl(training_circ)(X_train_transform[0], np.zeros(shape=(2,6,3)), list(range(14)) )\n",
        "fig.show()"
      ],
      "metadata": {
        "colab": {
          "base_uri": "https://localhost:8080/",
          "height": 1000
        },
        "id": "DMDF6p7LpQrN",
        "outputId": "86ac2d5f-1237-4b72-8f87-ae93f3d209fa"
      },
      "id": "DMDF6p7LpQrN",
      "execution_count": 139,
      "outputs": [
        {
          "output_type": "stream",
          "name": "stderr",
          "text": [
            "/usr/local/lib/python3.10/dist-packages/pennylane/drawer/mpldrawer.py:634: UserWarning: Some control indicators are hidden behind an operator. Consider re-ordering your circuit wires to ensure all control indicators are visible.\n",
            "  warnings.warn(\n"
          ]
        },
        {
          "output_type": "display_data",
          "data": {
            "text/plain": [
              "<Figure size 1100x1400 with 1 Axes>"
            ],
            "image/png": "[encoded data removed]"
          },
          "metadata": {}
        }
      ]
    },
    {
      "cell_type": "markdown",
      "id": "60acc0f0-7c80-43cc-8322-9967abd6651d",
      "metadata": {
        "id": "60acc0f0-7c80-43cc-8322-9967abd6651d"
      },
      "source": [
        "### Training"
      ]
    },
    {
      "cell_type": "markdown",
      "id": "23eea058-4ece-4fc6-a74b-04a18dfea2fe",
      "metadata": {
        "id": "23eea058-4ece-4fc6-a74b-04a18dfea2fe"
      },
      "source": [
        "Training parameters:\n",
        "1. Epochs\n",
        "2. Batch size\n",
        "3. Learning rate\n",
        "4. Layers in the Strongly Entangling generator circuit"
      ]
    },
    {
      "cell_type": "code",
      "execution_count": 182,
      "id": "499f8e11-f5e3-44f6-898e-bbbeee4dea5f",
      "metadata": {
        "id": "499f8e11-f5e3-44f6-898e-bbbeee4dea5f"
      },
      "outputs": [],
      "source": [
        "epochs = 5\n",
        "batch_size=16\n",
        "learning_rate=0.01\n",
        "layers = 15\n",
        "qubits = list(range(13))"
      ]
    },
    {
      "cell_type": "markdown",
      "id": "0b7aa64b-a616-49f6-b112-ef76d5183a51",
      "metadata": {
        "id": "0b7aa64b-a616-49f6-b112-ef76d5183a51"
      },
      "source": [
        "To train the circuit we first define the loss function.\n",
        "\n",
        "It is given by\n",
        "$$\\mathcal{L}=-\\log\\big[\\big|\\big<\\sigma|G(\\Theta_g)\\big>\\big|^2\\big]$$\n",
        "where the fidelity is exatly the output of the swap test.\n",
        "\n",
        "We also add a small regularization $\\epsilon$ in the $\\log$"
      ]
    },
    {
      "cell_type": "code",
      "execution_count": 183,
      "id": "233c9b8d-468e-4d3b-b863-b8a646f045a2",
      "metadata": {
        "id": "233c9b8d-468e-4d3b-b863-b8a646f045a2"
      },
      "outputs": [],
      "source": [
        "def cost_batch(params1, batch, reg=0.000001):\n",
        "    loss = 0.0\n",
        "    for i in batch:\n",
        "        f = training_circ(i, i+1, params1, qubits) + reg\n",
        "        loss += - np.log(f)\n",
        "    return loss / len(batch)"
      ]
    },
    {
      "cell_type": "code",
      "source": [
        "def cost_batch_5(paramsg, batch, reg=0.000001):\n",
        "    loss = 0.0\n",
        "    for i in batch:\n",
        "      f=0\n",
        "      for j in range(5):\n",
        "        f += training_circ_5(i, paramsg, qubits)[j] + reg\n",
        "      loss += - np.log(f)\n",
        "    return loss / len(batch)"
      ],
      "metadata": {
        "id": "UFJfHFFv2euc"
      },
      "id": "UFJfHFFv2euc",
      "execution_count": 184,
      "outputs": []
    },
    {
      "cell_type": "markdown",
      "id": "64ec7f0c-5e97-4f12-8a99-b3c769077d32",
      "metadata": {
        "id": "64ec7f0c-5e97-4f12-8a99-b3c769077d32"
      },
      "source": [
        "We initialize the parameters of the generator and the optimizer"
      ]
    },
    {
      "cell_type": "code",
      "execution_count": 185,
      "id": "dc5b21c6-9ec8-44f1-a673-3b3c7e8c431d",
      "metadata": {
        "id": "dc5b21c6-9ec8-44f1-a673-3b3c7e8c431d"
      },
      "outputs": [],
      "source": [
        "# trainable params\n",
        "from pennylane import numpy as np\n",
        "paramsg_train = np.random.uniform(0,np.pi, size=(layers,6,3), requires_grad=True)\n",
        "#paramsg_train2 = np.random.uniform(0,np.pi, size=(layers,6,3), requires_grad=True)"
      ]
    },
    {
      "cell_type": "code",
      "execution_count": 186,
      "id": "b54a745c-75cd-4dd7-b0df-89b5ec9ef424",
      "metadata": {
        "id": "b54a745c-75cd-4dd7-b0df-89b5ec9ef424"
      },
      "outputs": [],
      "source": [
        "optg = AdamOptimizer(learning_rate, beta1=0.9, beta2=0.999)"
      ]
    },
    {
      "cell_type": "markdown",
      "id": "a3456b9a-4aa3-4086-9374-a31da1347d35",
      "metadata": {
        "id": "a3456b9a-4aa3-4086-9374-a31da1347d35"
      },
      "source": [
        "To train we iterate over the data in batches"
      ]
    },
    {
      "cell_type": "code",
      "execution_count": 187,
      "id": "f424a83a-2115-4dbe-8996-8863ea08381a",
      "metadata": {
        "id": "f424a83a-2115-4dbe-8996-8863ea08381a"
      },
      "outputs": [],
      "source": [
        "def iterate_minibatches(data, batch_size):\n",
        "    for start_idx in range(0, data.shape[0] - batch_size + 1, batch_size):\n",
        "        idxs = slice(start_idx, start_idx + batch_size)\n",
        "        yield data[idxs]"
      ]
    },
    {
      "cell_type": "markdown",
      "id": "13f174dd-f966-4fc4-8b5f-34e73254ca91",
      "metadata": {
        "id": "13f174dd-f966-4fc4-8b5f-34e73254ca91"
      },
      "source": [
        "In the training loop we save the loss.\n",
        "\n",
        "Note that we define a the loss function with a lambda function for every batch of data to have only a single argument when passing it to the optimizer."
      ]
    },
    {
      "cell_type": "code",
      "execution_count": 188,
      "id": "2289552e-d72b-4553-90b1-c4121f19ac7c",
      "metadata": {
        "colab": {
          "base_uri": "https://localhost:8080/"
        },
        "id": "2289552e-d72b-4553-90b1-c4121f19ac7c",
        "outputId": "8fa509d4-cd4f-4a25-f8dd-eedfdad224a4"
      },
      "outputs": [
        {
          "output_type": "stream",
          "name": "stdout",
          "text": [
            "Epoch: 0 | Loss: 1.57 | \n",
            "____\n",
            "Epoch: 1 | Loss: 1.57 | \n",
            "____\n",
            "Epoch: 2 | Loss: 1.57 | \n",
            "____\n",
            "Epoch: 3 | Loss: 1.57 | \n",
            "____\n",
            "Epoch: 4 | Loss: 1.57 | \n",
            "____\n",
            "Time for 5 epochs: 831.4791352748871\n"
          ]
        }
      ],
      "source": [
        "losshist = []\n",
        "\n",
        "start = time.time()\n",
        "\n",
        "for it in range(epochs):\n",
        "    start_b = time.time()\n",
        "    for j,Xbatch in enumerate(iterate_minibatches(X_train_transform[:100], batch_size=batch_size)):\n",
        "        cost_fn = lambda p: cost_batch(p, Xbatch)\n",
        "        paramsg_train = optg.step(cost_fn, paramsg_train)\n",
        "        print(j, end=\"\\r\")\n",
        "\n",
        "    loss = cost_batch(paramsg_train, X_train_transform[:100])\n",
        "    losshist += [loss]\n",
        "\n",
        "    print(f\"Epoch: {it} | Loss: {loss:.3} | \")\n",
        "    print(\"____\")\n",
        "\n",
        "end = time.time()\n",
        "\n",
        "print(f\"Time for {epochs} epochs: {end - start}\")"
      ]
    },
    {
      "cell_type": "markdown",
      "id": "79d5d823-ed38-43f8-b5ec-8dd7f691b478",
      "metadata": {
        "id": "79d5d823-ed38-43f8-b5ec-8dd7f691b478"
      },
      "source": [
        "### Evaluation"
      ]
    },
    {
      "cell_type": "markdown",
      "id": "2d908f86-db92-45f7-a0d5-ee45a0a2240c",
      "metadata": {
        "id": "2d908f86-db92-45f7-a0d5-ee45a0a2240c"
      },
      "source": [
        "Lets check the training results:\n",
        "\n",
        "The loss evolution during training:"
      ]
    },
    {
      "cell_type": "code",
      "execution_count": 181,
      "id": "cf196299-4086-40a7-a382-f081e0b05cc9",
      "metadata": {
        "id": "cf196299-4086-40a7-a382-f081e0b05cc9",
        "colab": {
          "base_uri": "https://localhost:8080/",
          "height": 475
        },
        "outputId": "780b19a8-4961-484f-b896-1fc7688c7bac"
      },
      "outputs": [
        {
          "output_type": "display_data",
          "data": {
            "text/plain": [
              "<Figure size 640x480 with 1 Axes>"
            ],
            "image/png": "[encoded data removed]"
          },
          "metadata": {}
        }
      ],
      "source": [
        "plt.plot(losshist)\n",
        "plt.xlabel(\"epoch\")\n",
        "plt.ylabel(\"loss\")\n",
        "plt.yscale('log')"
      ]
    },
    {
      "cell_type": "markdown",
      "source": [
        "## DataReuploading Approach. 3 qubits circuit"
      ],
      "metadata": {
        "id": "3OQ_yN8p_Lps"
      },
      "id": "3OQ_yN8p_Lps"
    },
    {
      "cell_type": "markdown",
      "source": [
        "Attempt with DataReUploading technique and different unitary gates with trainable parameters. With this function we can embed an image with only one qubit."
      ],
      "metadata": {
        "id": "wcA1bF9i_CZi"
      },
      "id": "wcA1bF9i_CZi"
    },
    {
      "cell_type": "code",
      "source": [
        "import pennylane as qml\n",
        "from pennylane import numpy as np\n",
        "from pennylane.optimize import AdamOptimizer, GradientDescentOptimizer"
      ],
      "metadata": {
        "id": "-bD_C33OCLGf"
      },
      "id": "-bD_C33OCLGf",
      "execution_count": 200,
      "outputs": []
    },
    {
      "cell_type": "code",
      "source": [
        "# Define output labels as quantum state vectors\n",
        "def density_matrix(state):\n",
        "    \"\"\"Calculates the density matrix representation of a state.\n",
        "\n",
        "    Args:\n",
        "        state (array[complex]): array representing a quantum state vector\n",
        "\n",
        "    Returns:\n",
        "        dm: (array[complex]): array representing the density matrix\n",
        "    \"\"\"\n",
        "    return state * np.conj(state).T"
      ],
      "metadata": {
        "id": "7RfGjO5JCHPU"
      },
      "id": "7RfGjO5JCHPU",
      "execution_count": 201,
      "outputs": []
    },
    {
      "cell_type": "code",
      "source": [],
      "metadata": {
        "id": "Gy1Fq8PAF-Za"
      },
      "id": "Gy1Fq8PAF-Za",
      "execution_count": null,
      "outputs": []
    },
    {
      "cell_type": "markdown",
      "source": [
        "Simple classifier with data reloading and fidelity loss"
      ],
      "metadata": {
        "id": "rOotQPS_CWVx"
      },
      "id": "rOotQPS_CWVx"
    },
    {
      "cell_type": "code",
      "source": [
        "dev = qml.device(\"lightning.qubit\", wires=1)\n",
        "# Install any pennylane-plugin to run on some particular backend\n",
        "\n",
        "\n",
        "@qml.qnode(dev)\n",
        "def qcircuit(params, x, y):\n",
        "    \"\"\"A variational quantum circuit representing the Universal classifier.\n",
        "\n",
        "    Args:\n",
        "        params (array[float]): array of parameters\n",
        "        x (array[float]): single input vector\n",
        "        y (array[float]): single output state density matrix\n",
        "\n",
        "    Returns:\n",
        "        float: fidelity between output state and input\n",
        "    \"\"\"\n",
        "    for p in params:\n",
        "        qml.Rot(*x, wires=0)\n",
        "        qml.Rot(*p, wires=0)\n",
        "    return qml.expval(qml.Hermitian(y, wires=0))\n",
        "\n",
        "\n",
        "def cost(params, x, y, state_labels=None):\n",
        "    \"\"\"Cost function to be minimized.\n",
        "\n",
        "    Args:\n",
        "        params (array[float]): array of parameters\n",
        "        x (array[float]): 2-d array of input vectors\n",
        "        y (array[float]): 1-d array of targets\n",
        "        state_labels (array[float]): array of state representations for labels\n",
        "\n",
        "    Returns:\n",
        "        float: loss value to be minimized\n",
        "    \"\"\"\n",
        "    # Compute prediction for each input in data batch\n",
        "    loss = 0.0\n",
        "    dm_labels = [density_matrix(s) for s in state_labels]\n",
        "    for i in range(len(x)):\n",
        "        f = qcircuit(params, x[i], dm_labels[y[i]])\n",
        "        loss = loss + (1 - f) ** 2\n",
        "    return loss / len(x)\n",
        "\n",
        "fig, ax = qml.draw_mpl(qcircuit)(np.random.random(3), np.array([0.92]), np.array(1))\n",
        "fig.show()"
      ],
      "metadata": {
        "id": "gV43qP9U_DAC"
      },
      "id": "gV43qP9U_DAC",
      "execution_count": 230,
      "outputs": []
    },
    {
      "cell_type": "markdown",
      "source": [
        "Utility functions for testing and creating batches"
      ],
      "metadata": {
        "id": "rYoSP4EOCY1X"
      },
      "id": "rYoSP4EOCY1X"
    },
    {
      "cell_type": "code",
      "source": [
        "def test(params, x, y, state_labels=None):\n",
        "    \"\"\"\n",
        "    Tests on a given set of data.\n",
        "\n",
        "    Args:\n",
        "        params (array[float]): array of parameters\n",
        "        x (array[float]): 2-d array of input vectors\n",
        "        y (array[float]): 1-d array of targets\n",
        "        state_labels (array[float]): 1-d array of state representations for labels\n",
        "\n",
        "    Returns:\n",
        "        predicted (array([int]): predicted labels for test data\n",
        "        output_states (array[float]): output quantum states from the circuit\n",
        "    \"\"\"\n",
        "    fidelity_values = []\n",
        "    dm_labels = [density_matrix(s) for s in state_labels]\n",
        "    predicted = []\n",
        "\n",
        "    for i in range(len(x)):\n",
        "        fidel_function = lambda y: qcircuit(params, x[i], y)\n",
        "        fidelities = [fidel_function(dm) for dm in dm_labels]\n",
        "        best_fidel = np.argmax(fidelities)\n",
        "\n",
        "        predicted.append(best_fidel)\n",
        "        fidelity_values.append(fidelities)\n",
        "\n",
        "    return np.array(predicted), np.array(fidelity_values)\n",
        "\n",
        "\n",
        "def accuracy_score(y_true, y_pred):\n",
        "    \"\"\"Accuracy score.\n",
        "\n",
        "    Args:\n",
        "        y_true (array[float]): 1-d array of targets\n",
        "        y_predicted (array[float]): 1-d array of predictions\n",
        "        state_labels (array[float]): 1-d array of state representations for labels\n",
        "\n",
        "    Returns:\n",
        "        score (float): the fraction of correctly classified samples\n",
        "    \"\"\"\n",
        "    score = y_true == y_pred\n",
        "    return score.sum() / len(y_true)\n",
        "\n",
        "\n",
        "def iterate_minibatches(inputs, targets, batch_size):\n",
        "    \"\"\"\n",
        "    A generator for batches of the input data\n",
        "\n",
        "    Args:\n",
        "        inputs (array[float]): input data\n",
        "        targets (array[float]): targets\n",
        "\n",
        "    Returns:\n",
        "        inputs (array[float]): one batch of input data of length `batch_size`\n",
        "        targets (array[float]): one batch of targets of length `batch_size`\n",
        "    \"\"\"\n",
        "    for start_idx in range(0, inputs.shape[0] - batch_size + 1, batch_size):\n",
        "        idxs = slice(start_idx, start_idx + batch_size)\n",
        "        yield inputs[idxs], targets[idxs]"
      ],
      "metadata": {
        "id": "VOVmSMn6_Dlq"
      },
      "id": "VOVmSMn6_Dlq",
      "execution_count": 203,
      "outputs": []
    },
    {
      "cell_type": "markdown",
      "source": [
        "Train a quantum classifier"
      ],
      "metadata": {
        "id": "chn_gHR6CcaX"
      },
      "id": "chn_gHR6CcaX"
    },
    {
      "cell_type": "code",
      "source": [
        "Y_test"
      ],
      "metadata": {
        "colab": {
          "base_uri": "https://localhost:8080/"
        },
        "id": "PjtuTNtHDTOv",
        "outputId": "5cda4da6-d241-4045-baf0-0d0f8aad808d"
      },
      "id": "PjtuTNtHDTOv",
      "execution_count": 190,
      "outputs": [
        {
          "output_type": "execute_result",
          "data": {
            "text/plain": [
              "array([0, 0, 0, 0, 0, 0, 0, 0, 0, 0, 0, 0, 0, 0, 0, 0, 0, 0, 0, 0, 0, 0,\n",
              "       0, 0, 0, 0, 0, 0, 0, 0, 0, 0, 0, 0, 0, 0, 0, 0, 0, 0, 0, 0, 0, 0,\n",
              "       0, 0, 0, 0, 0, 0, 0, 0, 0, 0, 0, 0, 0, 0, 0, 0, 0, 0, 0, 0, 0, 0,\n",
              "       0, 0, 0, 0, 0, 0, 0, 0, 0, 0, 0, 0, 0, 0, 0, 0, 0, 0, 0, 0, 0, 0,\n",
              "       0, 0, 0, 0, 0, 0, 0, 0, 0, 0, 0, 0, 1, 1, 1, 1, 1, 1, 1, 1, 1, 1,\n",
              "       1, 1, 1, 1, 1, 1, 1, 1, 1, 1, 1, 1, 1, 1, 1, 1, 1, 1, 1, 1, 1, 1,\n",
              "       1, 1, 1, 1, 1, 1, 1, 1, 1, 1, 1, 1, 1, 1, 1, 1, 1, 1, 1, 1, 1, 1,\n",
              "       1, 1, 1, 1, 1, 1, 1, 1, 1, 1, 1, 1, 1, 1, 1, 1, 1, 1, 1, 1, 1, 1,\n",
              "       1, 1, 1, 1, 1, 1, 1, 1, 1, 1, 1, 1, 1, 1, 1, 1, 1, 1, 1, 1, 1, 1,\n",
              "       1, 1])"
            ]
          },
          "metadata": {},
          "execution_count": 190
        }
      ]
    },
    {
      "cell_type": "code",
      "source": [
        "import tensorflow\n",
        "from tensorflow.keras.utils import to_categorical\n",
        "Y_train_ohe = to_categorical(Y_train)\n",
        "Y_test_ohe = to_categorical(Y_test)\n",
        "\n",
        "\n",
        "label_0 = [1, 0]\n",
        "label_1 = [0, 1]\n",
        "state_labels = np.array([label_0, label_1], requires_grad=False)"
      ],
      "metadata": {
        "id": "VSaFRbT2G4A8"
      },
      "id": "VSaFRbT2G4A8",
      "execution_count": 214,
      "outputs": []
    },
    {
      "cell_type": "code",
      "source": [
        "# Generate training and test data\n",
        "\n",
        "Xtrain = np.hstack((X_train_transform, np.zeros((X_train_transform.shape[0], 1), requires_grad=False)))\n",
        "\n",
        "Xtest = np.hstack((X_test_transform, np.zeros((X_test_transform.shape[0], 1), requires_grad=False)))\n",
        "\n",
        "\n",
        "label_0 = np.array([[0]])\n",
        "label_1 = np.array([[1]])\n",
        "state_labels = np.array([label_0, label_1], requires_grad=False)\n",
        "# Train using Adam optimizer and evaluate the classifier\n",
        "num_layers = 3\n",
        "learning_rate = 0.6\n",
        "epochs = 10\n",
        "batch_size = 32\n",
        "\n",
        "opt = AdamOptimizer(learning_rate, beta1=0.9, beta2=0.999)\n",
        "\n",
        "# initialize random weights\n",
        "params = np.random.uniform(size=(num_layers, 3), requires_grad=True)\n",
        "\n",
        "predicted_train, fidel_train = test(params, Xtrain, Y_train_ohe, state_labels)\n",
        "accuracy_train = accuracy_score(Y_train_ohe, predicted_train)\n",
        "\n",
        "predicted_test, fidel_test = test(params, Xtest, Y_test_ohe, state_labels)\n",
        "accuracy_test = accuracy_score(Y_test_ohe, predicted_test)\n",
        "\n",
        "# save predictions with random weights for comparison\n",
        "initial_predictions = predicted_test\n",
        "\n",
        "loss = cost(params, Xtest, Y_test_ohe, state_labels)\n",
        "\n",
        "print(\n",
        "    \"Epoch: {:2d} | Cost: {:3f} | Train accuracy: {:3f} | Test Accuracy: {:3f}\".format(\n",
        "        0, loss, accuracy_train, accuracy_test\n",
        "    )\n",
        ")\n",
        "\n",
        "for it in range(epochs):\n",
        "    for Xbatch, ybatch in iterate_minibatches(Xtrain, Y_train_ohe, batch_size=batch_size):\n",
        "        params, _, _, _ = opt.step(cost, params, Xbatch, ybatch, state_labels)\n",
        "\n",
        "    predicted_train, fidel_train = test(params, Xtrain, Y_train_ohe, state_labels)\n",
        "    accuracy_train = accuracy_score(Y_train_ohe, predicted_train)\n",
        "    loss = cost(params, Xtrain, Y_train_ohe, state_labels)\n",
        "\n",
        "    predicted_test, fidel_test = test(params, Xtest, Y_test, state_labels)\n",
        "    accuracy_test = accuracy_score(Y_test_ohe, predicted_test)\n",
        "    res = [it + 1, loss, accuracy_train, accuracy_test]\n",
        "    print(\n",
        "        \"Epoch: {:2d} | Loss: {:3f} | Train accuracy: {:3f} | Test accuracy: {:3f}\".format(\n",
        "            *res\n",
        "        )\n",
        "    )"
      ],
      "metadata": {
        "colab": {
          "base_uri": "https://localhost:8080/",
          "height": 356
        },
        "id": "kKuwzYAJ_Dia",
        "outputId": "9608da76-3e3c-4319-f815-8cfd4cee726c"
      },
      "id": "kKuwzYAJ_Dia",
      "execution_count": 215,
      "outputs": [
        {
          "output_type": "error",
          "ename": "TypeError",
          "evalue": "Rot.__init__() got multiple values for argument 'wires'",
          "traceback": [
            "\u001b[0;31m---------------------------------------------------------------------------\u001b[0m",
            "\u001b[0;31mTypeError\u001b[0m                                 Traceback (most recent call last)",
            "\u001b[0;32m<ipython-input-215-e16c07cce7fe>\u001b[0m in \u001b[0;36m<cell line: 22>\u001b[0;34m()\u001b[0m\n\u001b[1;32m     20\u001b[0m \u001b[0mparams\u001b[0m \u001b[0;34m=\u001b[0m \u001b[0mnp\u001b[0m\u001b[0;34m.\u001b[0m\u001b[0mrandom\u001b[0m\u001b[0;34m.\u001b[0m\u001b[0muniform\u001b[0m\u001b[0;34m(\u001b[0m\u001b[0msize\u001b[0m\u001b[0;34m=\u001b[0m\u001b[0;34m(\u001b[0m\u001b[0mnum_layers\u001b[0m\u001b[0;34m,\u001b[0m \u001b[0;36m3\u001b[0m\u001b[0;34m)\u001b[0m\u001b[0;34m,\u001b[0m \u001b[0mrequires_grad\u001b[0m\u001b[0;34m=\u001b[0m\u001b[0;32mTrue\u001b[0m\u001b[0;34m)\u001b[0m\u001b[0;34m\u001b[0m\u001b[0;34m\u001b[0m\u001b[0m\n\u001b[1;32m     21\u001b[0m \u001b[0;34m\u001b[0m\u001b[0m\n\u001b[0;32m---> 22\u001b[0;31m \u001b[0mpredicted_train\u001b[0m\u001b[0;34m,\u001b[0m \u001b[0mfidel_train\u001b[0m \u001b[0;34m=\u001b[0m \u001b[0mtest\u001b[0m\u001b[0;34m(\u001b[0m\u001b[0mparams\u001b[0m\u001b[0;34m,\u001b[0m \u001b[0mXtrain\u001b[0m\u001b[0;34m,\u001b[0m \u001b[0mY_train_ohe\u001b[0m\u001b[0;34m,\u001b[0m \u001b[0mstate_labels\u001b[0m\u001b[0;34m)\u001b[0m\u001b[0;34m\u001b[0m\u001b[0;34m\u001b[0m\u001b[0m\n\u001b[0m\u001b[1;32m     23\u001b[0m \u001b[0maccuracy_train\u001b[0m \u001b[0;34m=\u001b[0m \u001b[0maccuracy_score\u001b[0m\u001b[0;34m(\u001b[0m\u001b[0mY_train_ohe\u001b[0m\u001b[0;34m,\u001b[0m \u001b[0mpredicted_train\u001b[0m\u001b[0;34m)\u001b[0m\u001b[0;34m\u001b[0m\u001b[0;34m\u001b[0m\u001b[0m\n\u001b[1;32m     24\u001b[0m \u001b[0;34m\u001b[0m\u001b[0m\n",
            "\u001b[0;32m<ipython-input-203-2c6fe6fa061e>\u001b[0m in \u001b[0;36mtest\u001b[0;34m(params, x, y, state_labels)\u001b[0m\n\u001b[1;32m     19\u001b[0m     \u001b[0;32mfor\u001b[0m \u001b[0mi\u001b[0m \u001b[0;32min\u001b[0m \u001b[0mrange\u001b[0m\u001b[0;34m(\u001b[0m\u001b[0mlen\u001b[0m\u001b[0;34m(\u001b[0m\u001b[0mx\u001b[0m\u001b[0;34m)\u001b[0m\u001b[0;34m)\u001b[0m\u001b[0;34m:\u001b[0m\u001b[0;34m\u001b[0m\u001b[0;34m\u001b[0m\u001b[0m\n\u001b[1;32m     20\u001b[0m         \u001b[0mfidel_function\u001b[0m \u001b[0;34m=\u001b[0m \u001b[0;32mlambda\u001b[0m \u001b[0my\u001b[0m\u001b[0;34m:\u001b[0m \u001b[0mqcircuit\u001b[0m\u001b[0;34m(\u001b[0m\u001b[0mparams\u001b[0m\u001b[0;34m,\u001b[0m \u001b[0mx\u001b[0m\u001b[0;34m[\u001b[0m\u001b[0mi\u001b[0m\u001b[0;34m]\u001b[0m\u001b[0;34m,\u001b[0m \u001b[0my\u001b[0m\u001b[0;34m)\u001b[0m\u001b[0;34m\u001b[0m\u001b[0;34m\u001b[0m\u001b[0m\n\u001b[0;32m---> 21\u001b[0;31m         \u001b[0mfidelities\u001b[0m \u001b[0;34m=\u001b[0m \u001b[0;34m[\u001b[0m\u001b[0mfidel_function\u001b[0m\u001b[0;34m(\u001b[0m\u001b[0mdm\u001b[0m\u001b[0;34m)\u001b[0m \u001b[0;32mfor\u001b[0m \u001b[0mdm\u001b[0m \u001b[0;32min\u001b[0m \u001b[0mdm_labels\u001b[0m\u001b[0;34m]\u001b[0m\u001b[0;34m\u001b[0m\u001b[0;34m\u001b[0m\u001b[0m\n\u001b[0m\u001b[1;32m     22\u001b[0m         \u001b[0mbest_fidel\u001b[0m \u001b[0;34m=\u001b[0m \u001b[0mnp\u001b[0m\u001b[0;34m.\u001b[0m\u001b[0margmax\u001b[0m\u001b[0;34m(\u001b[0m\u001b[0mfidelities\u001b[0m\u001b[0;34m)\u001b[0m\u001b[0;34m\u001b[0m\u001b[0;34m\u001b[0m\u001b[0m\n\u001b[1;32m     23\u001b[0m \u001b[0;34m\u001b[0m\u001b[0m\n",
            "\u001b[0;32m<ipython-input-203-2c6fe6fa061e>\u001b[0m in \u001b[0;36m<listcomp>\u001b[0;34m(.0)\u001b[0m\n\u001b[1;32m     19\u001b[0m     \u001b[0;32mfor\u001b[0m \u001b[0mi\u001b[0m \u001b[0;32min\u001b[0m \u001b[0mrange\u001b[0m\u001b[0;34m(\u001b[0m\u001b[0mlen\u001b[0m\u001b[0;34m(\u001b[0m\u001b[0mx\u001b[0m\u001b[0;34m)\u001b[0m\u001b[0;34m)\u001b[0m\u001b[0;34m:\u001b[0m\u001b[0;34m\u001b[0m\u001b[0;34m\u001b[0m\u001b[0m\n\u001b[1;32m     20\u001b[0m         \u001b[0mfidel_function\u001b[0m \u001b[0;34m=\u001b[0m \u001b[0;32mlambda\u001b[0m \u001b[0my\u001b[0m\u001b[0;34m:\u001b[0m \u001b[0mqcircuit\u001b[0m\u001b[0;34m(\u001b[0m\u001b[0mparams\u001b[0m\u001b[0;34m,\u001b[0m \u001b[0mx\u001b[0m\u001b[0;34m[\u001b[0m\u001b[0mi\u001b[0m\u001b[0;34m]\u001b[0m\u001b[0;34m,\u001b[0m \u001b[0my\u001b[0m\u001b[0;34m)\u001b[0m\u001b[0;34m\u001b[0m\u001b[0;34m\u001b[0m\u001b[0m\n\u001b[0;32m---> 21\u001b[0;31m         \u001b[0mfidelities\u001b[0m \u001b[0;34m=\u001b[0m \u001b[0;34m[\u001b[0m\u001b[0mfidel_function\u001b[0m\u001b[0;34m(\u001b[0m\u001b[0mdm\u001b[0m\u001b[0;34m)\u001b[0m \u001b[0;32mfor\u001b[0m \u001b[0mdm\u001b[0m \u001b[0;32min\u001b[0m \u001b[0mdm_labels\u001b[0m\u001b[0;34m]\u001b[0m\u001b[0;34m\u001b[0m\u001b[0;34m\u001b[0m\u001b[0m\n\u001b[0m\u001b[1;32m     22\u001b[0m         \u001b[0mbest_fidel\u001b[0m \u001b[0;34m=\u001b[0m \u001b[0mnp\u001b[0m\u001b[0;34m.\u001b[0m\u001b[0margmax\u001b[0m\u001b[0;34m(\u001b[0m\u001b[0mfidelities\u001b[0m\u001b[0;34m)\u001b[0m\u001b[0;34m\u001b[0m\u001b[0;34m\u001b[0m\u001b[0m\n\u001b[1;32m     23\u001b[0m \u001b[0;34m\u001b[0m\u001b[0m\n",
            "\u001b[0;32m<ipython-input-203-2c6fe6fa061e>\u001b[0m in \u001b[0;36m<lambda>\u001b[0;34m(y)\u001b[0m\n\u001b[1;32m     18\u001b[0m \u001b[0;34m\u001b[0m\u001b[0m\n\u001b[1;32m     19\u001b[0m     \u001b[0;32mfor\u001b[0m \u001b[0mi\u001b[0m \u001b[0;32min\u001b[0m \u001b[0mrange\u001b[0m\u001b[0;34m(\u001b[0m\u001b[0mlen\u001b[0m\u001b[0;34m(\u001b[0m\u001b[0mx\u001b[0m\u001b[0;34m)\u001b[0m\u001b[0;34m)\u001b[0m\u001b[0;34m:\u001b[0m\u001b[0;34m\u001b[0m\u001b[0;34m\u001b[0m\u001b[0m\n\u001b[0;32m---> 20\u001b[0;31m         \u001b[0mfidel_function\u001b[0m \u001b[0;34m=\u001b[0m \u001b[0;32mlambda\u001b[0m \u001b[0my\u001b[0m\u001b[0;34m:\u001b[0m \u001b[0mqcircuit\u001b[0m\u001b[0;34m(\u001b[0m\u001b[0mparams\u001b[0m\u001b[0;34m,\u001b[0m \u001b[0mx\u001b[0m\u001b[0;34m[\u001b[0m\u001b[0mi\u001b[0m\u001b[0;34m]\u001b[0m\u001b[0;34m,\u001b[0m \u001b[0my\u001b[0m\u001b[0;34m)\u001b[0m\u001b[0;34m\u001b[0m\u001b[0;34m\u001b[0m\u001b[0m\n\u001b[0m\u001b[1;32m     21\u001b[0m         \u001b[0mfidelities\u001b[0m \u001b[0;34m=\u001b[0m \u001b[0;34m[\u001b[0m\u001b[0mfidel_function\u001b[0m\u001b[0;34m(\u001b[0m\u001b[0mdm\u001b[0m\u001b[0;34m)\u001b[0m \u001b[0;32mfor\u001b[0m \u001b[0mdm\u001b[0m \u001b[0;32min\u001b[0m \u001b[0mdm_labels\u001b[0m\u001b[0;34m]\u001b[0m\u001b[0;34m\u001b[0m\u001b[0;34m\u001b[0m\u001b[0m\n\u001b[1;32m     22\u001b[0m         \u001b[0mbest_fidel\u001b[0m \u001b[0;34m=\u001b[0m \u001b[0mnp\u001b[0m\u001b[0;34m.\u001b[0m\u001b[0margmax\u001b[0m\u001b[0;34m(\u001b[0m\u001b[0mfidelities\u001b[0m\u001b[0;34m)\u001b[0m\u001b[0;34m\u001b[0m\u001b[0;34m\u001b[0m\u001b[0m\n",
            "\u001b[0;32m/usr/local/lib/python3.10/dist-packages/pennylane/workflow/qnode.py\u001b[0m in \u001b[0;36m__call__\u001b[0;34m(self, *args, **kwargs)\u001b[0m\n\u001b[1;32m   1000\u001b[0m \u001b[0;34m\u001b[0m\u001b[0m\n\u001b[1;32m   1001\u001b[0m         \u001b[0;31m# construct the tape\u001b[0m\u001b[0;34m\u001b[0m\u001b[0;34m\u001b[0m\u001b[0m\n\u001b[0;32m-> 1002\u001b[0;31m         \u001b[0mself\u001b[0m\u001b[0;34m.\u001b[0m\u001b[0mconstruct\u001b[0m\u001b[0;34m(\u001b[0m\u001b[0margs\u001b[0m\u001b[0;34m,\u001b[0m \u001b[0mkwargs\u001b[0m\u001b[0;34m)\u001b[0m\u001b[0;34m\u001b[0m\u001b[0;34m\u001b[0m\u001b[0m\n\u001b[0m\u001b[1;32m   1003\u001b[0m \u001b[0;34m\u001b[0m\u001b[0m\n\u001b[1;32m   1004\u001b[0m         \u001b[0mcache\u001b[0m \u001b[0;34m=\u001b[0m \u001b[0mself\u001b[0m\u001b[0;34m.\u001b[0m\u001b[0mexecute_kwargs\u001b[0m\u001b[0;34m.\u001b[0m\u001b[0mget\u001b[0m\u001b[0;34m(\u001b[0m\u001b[0;34m\"cache\"\u001b[0m\u001b[0;34m,\u001b[0m \u001b[0;32mFalse\u001b[0m\u001b[0;34m)\u001b[0m\u001b[0;34m\u001b[0m\u001b[0;34m\u001b[0m\u001b[0m\n",
            "\u001b[0;32m/usr/local/lib/python3.10/dist-packages/pennylane/workflow/qnode.py\u001b[0m in \u001b[0;36mconstruct\u001b[0;34m(self, args, kwargs)\u001b[0m\n\u001b[1;32m    886\u001b[0m \u001b[0;34m\u001b[0m\u001b[0m\n\u001b[1;32m    887\u001b[0m         \u001b[0;32mwith\u001b[0m \u001b[0mqml\u001b[0m\u001b[0;34m.\u001b[0m\u001b[0mqueuing\u001b[0m\u001b[0;34m.\u001b[0m\u001b[0mAnnotatedQueue\u001b[0m\u001b[0;34m(\u001b[0m\u001b[0;34m)\u001b[0m \u001b[0;32mas\u001b[0m \u001b[0mq\u001b[0m\u001b[0;34m:\u001b[0m\u001b[0;34m\u001b[0m\u001b[0;34m\u001b[0m\u001b[0m\n\u001b[0;32m--> 888\u001b[0;31m             \u001b[0mself\u001b[0m\u001b[0;34m.\u001b[0m\u001b[0m_qfunc_output\u001b[0m \u001b[0;34m=\u001b[0m \u001b[0mself\u001b[0m\u001b[0;34m.\u001b[0m\u001b[0mfunc\u001b[0m\u001b[0;34m(\u001b[0m\u001b[0;34m*\u001b[0m\u001b[0margs\u001b[0m\u001b[0;34m,\u001b[0m \u001b[0;34m**\u001b[0m\u001b[0mkwargs\u001b[0m\u001b[0;34m)\u001b[0m\u001b[0;34m\u001b[0m\u001b[0;34m\u001b[0m\u001b[0m\n\u001b[0m\u001b[1;32m    889\u001b[0m \u001b[0;34m\u001b[0m\u001b[0m\n\u001b[1;32m    890\u001b[0m         \u001b[0mself\u001b[0m\u001b[0;34m.\u001b[0m\u001b[0m_tape\u001b[0m \u001b[0;34m=\u001b[0m \u001b[0mQuantumScript\u001b[0m\u001b[0;34m.\u001b[0m\u001b[0mfrom_queue\u001b[0m\u001b[0;34m(\u001b[0m\u001b[0mq\u001b[0m\u001b[0;34m,\u001b[0m \u001b[0mshots\u001b[0m\u001b[0;34m)\u001b[0m\u001b[0;34m\u001b[0m\u001b[0;34m\u001b[0m\u001b[0m\n",
            "\u001b[0;32m<ipython-input-202-fcf32ce07639>\u001b[0m in \u001b[0;36mqcircuit\u001b[0;34m(params, x, y)\u001b[0m\n\u001b[1;32m     16\u001b[0m     \"\"\"\n\u001b[1;32m     17\u001b[0m     \u001b[0;32mfor\u001b[0m \u001b[0mp\u001b[0m \u001b[0;32min\u001b[0m \u001b[0mparams\u001b[0m\u001b[0;34m:\u001b[0m\u001b[0;34m\u001b[0m\u001b[0;34m\u001b[0m\u001b[0m\n\u001b[0;32m---> 18\u001b[0;31m         \u001b[0mqml\u001b[0m\u001b[0;34m.\u001b[0m\u001b[0mRot\u001b[0m\u001b[0;34m(\u001b[0m\u001b[0;34m*\u001b[0m\u001b[0mx\u001b[0m\u001b[0;34m,\u001b[0m \u001b[0mwires\u001b[0m\u001b[0;34m=\u001b[0m\u001b[0;36m0\u001b[0m\u001b[0;34m)\u001b[0m\u001b[0;34m\u001b[0m\u001b[0;34m\u001b[0m\u001b[0m\n\u001b[0m\u001b[1;32m     19\u001b[0m         \u001b[0mqml\u001b[0m\u001b[0;34m.\u001b[0m\u001b[0mRot\u001b[0m\u001b[0;34m(\u001b[0m\u001b[0;34m*\u001b[0m\u001b[0mp\u001b[0m\u001b[0;34m,\u001b[0m \u001b[0mwires\u001b[0m\u001b[0;34m=\u001b[0m\u001b[0;36m0\u001b[0m\u001b[0;34m)\u001b[0m\u001b[0;34m\u001b[0m\u001b[0;34m\u001b[0m\u001b[0m\n\u001b[1;32m     20\u001b[0m     \u001b[0;32mreturn\u001b[0m \u001b[0mqml\u001b[0m\u001b[0;34m.\u001b[0m\u001b[0mexpval\u001b[0m\u001b[0;34m(\u001b[0m\u001b[0mqml\u001b[0m\u001b[0;34m.\u001b[0m\u001b[0mHermitian\u001b[0m\u001b[0;34m(\u001b[0m\u001b[0my\u001b[0m\u001b[0;34m,\u001b[0m \u001b[0mwires\u001b[0m\u001b[0;34m=\u001b[0m\u001b[0;34m[\u001b[0m\u001b[0;36m0\u001b[0m\u001b[0;34m]\u001b[0m\u001b[0;34m)\u001b[0m\u001b[0;34m)\u001b[0m\u001b[0;34m\u001b[0m\u001b[0;34m\u001b[0m\u001b[0m\n",
            "\u001b[0;31mTypeError\u001b[0m: Rot.__init__() got multiple values for argument 'wires'"
          ]
        }
      ]
    },
    {
      "cell_type": "code",
      "source": [],
      "metadata": {
        "id": "CbQgwEAG_DfS"
      },
      "id": "CbQgwEAG_DfS",
      "execution_count": null,
      "outputs": []
    },
    {
      "cell_type": "markdown",
      "id": "e8fd4851-9028-42fc-9b08-95032ab106f6",
      "metadata": {
        "id": "e8fd4851-9028-42fc-9b08-95032ab106f6"
      },
      "source": [
        "Lets also check the distribution we get when sampling from the generator:\n",
        "\n",
        "To do so we write a new qunode containing only the generator and sample from it."
      ]
    }
  ],
  "metadata": {
    "kernelspec": {
      "display_name": "tfq",
      "language": "python",
      "name": "tfq"
    },
    "language_info": {
      "codemirror_mode": {
        "name": "ipython",
        "version": 3
      },
      "file_extension": ".py",
      "mimetype": "text/x-python",
      "name": "python",
      "nbconvert_exporter": "python",
      "pygments_lexer": "ipython3",
      "version": "3.9.12"
    },
    "colab": {
      "provenance": [],
      "collapsed_sections": [
        "bf134c12-475c-48bc-9009-4ef652427c54"
      ],
      "include_colab_link": true
    }
  },
  "nbformat": 4,
  "nbformat_minor": 5
}